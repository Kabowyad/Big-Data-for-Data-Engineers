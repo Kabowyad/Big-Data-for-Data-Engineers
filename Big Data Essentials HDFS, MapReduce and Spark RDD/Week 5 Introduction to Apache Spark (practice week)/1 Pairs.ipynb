{
 "cells": [
  {
   "cell_type": "markdown",
   "metadata": {},
   "source": [
    "# Spark assignment 1: Pairs\n",
    "\n",
    "Find all the pairs of two consequent words where the first word is “narodnaya”. For each pair, count the number of occurrences in the Wikipedia dump. Print all the pairs with their count in a lexicographical order. Output format is “word_pair <tab> count”, for example:\n",
    "\n",
    "*red_apple 100500*\n",
    "\n",
    "*crazy_zoo 42*\n",
    "\n",
    "Note that two words in a pair are concatenated with the underscore character, and the result is in the lowercase.\n",
    "\n",
    "One motivation for counting these continuations is to get a better understanding of the language. Some words, like “the”, have a lot of continuations, while others, like “San”, have just a few (“San Francisco”, for example). One can build a language model with these statistics. If you are interested to learn more, search for “n-gram language model” in the Internet."
   ]
  },
  {
   "cell_type": "code",
   "execution_count": 1,
   "metadata": {},
   "outputs": [],
   "source": [
    "from pyspark import SparkConf, SparkContext\n",
    "sc = SparkContext(conf=SparkConf().setAppName(\"MyApp\").setMaster(\"local[*]\"))"
   ]
  },
  {
   "cell_type": "code",
   "execution_count": 2,
   "metadata": {},
   "outputs": [],
   "source": [
    "import re\n",
    "\n",
    "def parse_article(line):\n",
    "    try:\n",
    "        article_id, text = unicode(line.rstrip()).split('\\t', 1)\n",
    "    except ValueError as e:\n",
    "        return []\n",
    "    text = re.sub(\"^\\W+|\\W+$\", \"\", text, flags=re.UNICODE)\n",
    "    words = re.split(\"\\W*\\s+\\W*\", text, flags=re.UNICODE)\n",
    "    return words"
   ]
  },
  {
   "cell_type": "code",
   "execution_count": 3,
   "metadata": {},
   "outputs": [],
   "source": [
    "def make_bigrams_and_filter(words, start_word):\n",
    "    result = list()\n",
    "    \n",
    "    if not isinstance(words, list):\n",
    "        return\n",
    "    \n",
    "    for i in range(0, len(words)):\n",
    "        if words[i] != start_word:\n",
    "            continue\n",
    "        result.append((words[i] + '_' + words[i + 1], 1))\n",
    "    \n",
    "    return result"
   ]
  },
  {
   "cell_type": "code",
   "execution_count": 4,
   "metadata": {
    "scrolled": false
   },
   "outputs": [
    {
     "name": "stdout",
     "output_type": "stream",
     "text": [
      "narodnaya_gazeta\t1\n",
      "narodnaya_volya\t9\n"
     ]
    }
   ],
   "source": [
    "wiki = sc.textFile(\"/data/wiki/en_articles_part/articles-part\", 4).map(parse_article)\n",
    "\n",
    "wiki_lower = wiki.map(lambda words: [x.lower() for x in words])\n",
    "\n",
    "filtered_bigrams = wiki_lower.flatMap(lambda item: make_bigrams_and_filter(item, 'narodnaya'))\n",
    "\n",
    "result = filtered_bigrams.reduceByKey(lambda accum, n: accum + n).sortByKey()\n",
    "\n",
    "for (key, value) in result.collect():\n",
    "    print \"%s\\t%d\" % (key, value)"
   ]
  }
 ],
 "metadata": {
  "kernelspec": {
   "display_name": "Python 2",
   "language": "python",
   "name": "python2"
  },
  "language_info": {
   "codemirror_mode": {
    "name": "ipython",
    "version": 2
   },
   "file_extension": ".py",
   "mimetype": "text/x-python",
   "name": "python",
   "nbconvert_exporter": "python",
   "pygments_lexer": "ipython2",
   "version": "2.7.12"
  }
 },
 "nbformat": 4,
 "nbformat_minor": 2
}
