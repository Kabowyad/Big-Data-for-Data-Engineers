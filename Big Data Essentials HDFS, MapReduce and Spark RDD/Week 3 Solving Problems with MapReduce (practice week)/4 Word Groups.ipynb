{
 "cells": [
  {
   "cell_type": "markdown",
   "metadata": {},
   "source": [
    "# Hadoop Streaming assignment 4: Word Groups\n",
    "\n",
    "Calculate statistics for groups of words which are equal up to permutations of letters. For example, ‘emit’, ‘item’ and ‘time’ are the same words up to a permutation of letters. Determine such groups of words and sum all their counts. Apply stop words filter. Filter out groups that consist of only one word.\n",
    "\n",
    "Output: count of occurrences for the group of words, number of unique words in the group, comma-separated list of the words in the group in lexicographical order:\n",
    "\n",
    "*sum <tab> group size <tab> word1,word2,...*\n",
    "\n",
    "Example: assume ‘emit’ occurred 3 times, 'item' -- 2 times, 'time' -- 5 times; 3 + 2 + 5 = 10, group contains 3 words, so for this group result is:\n",
    "\n",
    "*10 3 emit,item,time*\n",
    "\n",
    "The result of the task is the output line with word ‘english’."
   ]
  },
  {
   "cell_type": "code",
   "execution_count": 4,
   "metadata": {},
   "outputs": [
    {
     "name": "stdout",
     "output_type": "stream",
     "text": [
      "Overwriting word_groups_mapper.py\n"
     ]
    }
   ],
   "source": [
    "%%writefile word_groups_mapper.py\n",
    "\n",
    "import sys\n",
    "import re\n",
    "from collections import Counter\n",
    "\n",
    "reload(sys)\n",
    "sys.setdefaultencoding('utf-8')\n",
    "\n",
    "for line in sys.stdin:\n",
    "    try:\n",
    "        article_id, text = unicode(line.strip()).split('\\t', 1)\n",
    "    except ValueError as e:\n",
    "        continue\n",
    "    words = re.split(\"\\W*\\s+\\W*\", text, flags=re.UNICODE)\n",
    "    counts = Counter(words)\n",
    "    for word, count in counts.items():\n",
    "        word = word.lower()\n",
    "        print \"%s\\t%s\\t%d\" % (''.join(sorted(word)), word, count)"
   ]
  },
  {
   "cell_type": "code",
   "execution_count": 5,
   "metadata": {},
   "outputs": [
    {
     "name": "stdout",
     "output_type": "stream",
     "text": [
      "Overwriting word_groups_reducer.py\n"
     ]
    }
   ],
   "source": [
    "%%writefile word_groups_reducer.py\n",
    "\n",
    "import sys\n",
    "\n",
    "current_key = None\n",
    "word_sum = 0\n",
    "words_of_gruop = list()\n",
    "\n",
    "for line in sys.stdin:\n",
    "    try:\n",
    "        group_key, key, count = line.strip().split('\\t', 2)\n",
    "        count = int(count)\n",
    "    except ValueError as e:\n",
    "        continue\n",
    "    if current_key != group_key:\n",
    "        if current_key and len(words_of_group) > 1:\n",
    "            print \"%d\\t%d\\t%s\" % (word_sum, len(words_of_group), ','.join(words_of_group))\n",
    "        word_sum = 0\n",
    "        current_key = group_key\n",
    "        words_of_group = list()\n",
    "    word_sum += count\n",
    "    if key not in words_of_group:\n",
    "        words_of_group.append(key)\n",
    "\n",
    "if current_key and len(words_of_group) > 1:\n",
    "    print \"%d\\t%d\\t%s\" % (word_sum, len(words_of_group), ','.join(words_of_group))"
   ]
  },
  {
   "cell_type": "code",
   "execution_count": 6,
   "metadata": {},
   "outputs": [
    {
     "name": "stdout",
     "output_type": "stream",
     "text": [
      "7820\t5\tenglish,helsing,hesling,shingle,shengli\n"
     ]
    },
    {
     "name": "stderr",
     "output_type": "stream",
     "text": [
      "rm: `wordgroups_result_1533209071395753': No such file or directory\n",
      "18/08/02 11:24:34 INFO client.RMProxy: Connecting to ResourceManager at /0.0.0.0:8032\n",
      "18/08/02 11:24:34 INFO client.RMProxy: Connecting to ResourceManager at /0.0.0.0:8032\n",
      "18/08/02 11:24:35 INFO mapred.FileInputFormat: Total input files to process : 1\n",
      "18/08/02 11:24:35 INFO mapreduce.JobSubmitter: number of splits:2\n",
      "18/08/02 11:24:35 INFO mapreduce.JobSubmitter: Submitting tokens for job: job_1533143790063_0010\n",
      "18/08/02 11:24:35 INFO impl.YarnClientImpl: Submitted application application_1533143790063_0010\n",
      "18/08/02 11:24:35 INFO mapreduce.Job: The url to track the job: http://6b428e5a5e59:8088/proxy/application_1533143790063_0010/\n",
      "18/08/02 11:24:35 INFO mapreduce.Job: Running job: job_1533143790063_0010\n",
      "18/08/02 11:24:40 INFO mapreduce.Job: Job job_1533143790063_0010 running in uber mode : false\n",
      "18/08/02 11:24:40 INFO mapreduce.Job:  map 0% reduce 0%\n",
      "18/08/02 11:24:56 INFO mapreduce.Job:  map 63% reduce 0%\n",
      "18/08/02 11:24:59 INFO mapreduce.Job:  map 81% reduce 0%\n",
      "18/08/02 11:25:00 INFO mapreduce.Job:  map 100% reduce 0%\n",
      "18/08/02 11:25:06 INFO mapreduce.Job:  map 100% reduce 13%\n",
      "18/08/02 11:25:07 INFO mapreduce.Job:  map 100% reduce 25%\n",
      "18/08/02 11:25:08 INFO mapreduce.Job:  map 100% reduce 38%\n",
      "18/08/02 11:25:09 INFO mapreduce.Job:  map 100% reduce 50%\n",
      "18/08/02 11:25:10 INFO mapreduce.Job:  map 100% reduce 63%\n",
      "18/08/02 11:25:11 INFO mapreduce.Job:  map 100% reduce 75%\n",
      "18/08/02 11:25:12 INFO mapreduce.Job:  map 100% reduce 88%\n",
      "18/08/02 11:25:13 INFO mapreduce.Job:  map 100% reduce 100%\n",
      "18/08/02 11:25:13 INFO mapreduce.Job: Job job_1533143790063_0010 completed successfully\n",
      "18/08/02 11:25:13 INFO mapreduce.Job: Counters: 50\n",
      "\tFile System Counters\n",
      "\t\tFILE: Number of bytes read=81522518\n",
      "\t\tFILE: Number of bytes written=164442780\n",
      "\t\tFILE: Number of read operations=0\n",
      "\t\tFILE: Number of large read operations=0\n",
      "\t\tFILE: Number of write operations=0\n",
      "\t\tHDFS: Number of bytes read=76874501\n",
      "\t\tHDFS: Number of bytes written=775025\n",
      "\t\tHDFS: Number of read operations=30\n",
      "\t\tHDFS: Number of large read operations=0\n",
      "\t\tHDFS: Number of write operations=16\n",
      "\tJob Counters \n",
      "\t\tKilled reduce tasks=1\n",
      "\t\tLaunched map tasks=2\n",
      "\t\tLaunched reduce tasks=8\n",
      "\t\tData-local map tasks=2\n",
      "\t\tTotal time spent by all maps in occupied slots (ms)=34781\n",
      "\t\tTotal time spent by all reduces in occupied slots (ms)=29541\n",
      "\t\tTotal time spent by all map tasks (ms)=34781\n",
      "\t\tTotal time spent by all reduce tasks (ms)=29541\n",
      "\t\tTotal vcore-milliseconds taken by all map tasks=34781\n",
      "\t\tTotal vcore-milliseconds taken by all reduce tasks=29541\n",
      "\t\tTotal megabyte-milliseconds taken by all map tasks=35615744\n",
      "\t\tTotal megabyte-milliseconds taken by all reduce tasks=30249984\n",
      "\tMap-Reduce Framework\n",
      "\t\tMap input records=4100\n",
      "\t\tMap output records=4166206\n",
      "\t\tMap output bytes=73190036\n",
      "\t\tMap output materialized bytes=81522566\n",
      "\t\tInput split bytes=228\n",
      "\t\tCombine input records=0\n",
      "\t\tCombine output records=0\n",
      "\t\tReduce input groups=370447\n",
      "\t\tReduce shuffle bytes=81522566\n",
      "\t\tReduce input records=4166206\n",
      "\t\tReduce output records=32663\n",
      "\t\tSpilled Records=8332412\n",
      "\t\tShuffled Maps =16\n",
      "\t\tFailed Shuffles=0\n",
      "\t\tMerged Map outputs=16\n",
      "\t\tGC time elapsed (ms)=753\n",
      "\t\tCPU time spent (ms)=56870\n",
      "\t\tPhysical memory (bytes) snapshot=2294390784\n",
      "\t\tVirtual memory (bytes) snapshot=20226179072\n",
      "\t\tTotal committed heap usage (bytes)=1567096832\n",
      "\tShuffle Errors\n",
      "\t\tBAD_ID=0\n",
      "\t\tCONNECTION=0\n",
      "\t\tIO_ERROR=0\n",
      "\t\tWRONG_LENGTH=0\n",
      "\t\tWRONG_MAP=0\n",
      "\t\tWRONG_REDUCE=0\n",
      "\tFile Input Format Counters \n",
      "\t\tBytes Read=76874273\n",
      "\tFile Output Format Counters \n",
      "\t\tBytes Written=775025\n",
      "18/08/02 11:25:13 INFO streaming.StreamJob: Output directory: wordgroups_result_1533209071395753\n"
     ]
    }
   ],
   "source": [
    "%%bash\n",
    "\n",
    "OUT_DIR=\"wordgroups_result_\"$(date +\"%s%6N\")\n",
    "NUM_REDUCERS=8\n",
    "\n",
    "hdfs dfs -rm -r -skipTrash ${OUT_DIR} > /dev/null\n",
    "\n",
    "yarn jar /opt/cloudera/parcels/CDH/lib/hadoop-mapreduce/hadoop-streaming.jar \\\n",
    "    -D mapred.jab.name=\"Streaming wordGroups\" \\\n",
    "    -D mapreduce.job.reduces=${NUM_REDUCERS} \\\n",
    "    -files word_groups_mapper.py,word_groups_reducer.py \\\n",
    "    -mapper \"python word_groups_mapper.py\" \\\n",
    "    -reducer \"python word_groups_reducer.py\" \\\n",
    "    -input /data/wiki/en_articles_part \\\n",
    "    -output ${OUT_DIR} > /dev/null\n",
    "    \n",
    "hdfs dfs -cat ${OUT_DIR}/* |  grep -P '(\\t|,)english(,|$)'"
   ]
  }
 ],
 "metadata": {
  "kernelspec": {
   "display_name": "Python 2",
   "language": "python",
   "name": "python2"
  },
  "language_info": {
   "codemirror_mode": {
    "name": "ipython",
    "version": 2
   },
   "file_extension": ".py",
   "mimetype": "text/x-python",
   "name": "python",
   "nbconvert_exporter": "python",
   "pygments_lexer": "ipython2",
   "version": "2.7.12"
  }
 },
 "nbformat": 4,
 "nbformat_minor": 2
}
