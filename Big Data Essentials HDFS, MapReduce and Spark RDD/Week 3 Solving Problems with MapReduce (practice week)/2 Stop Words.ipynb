{
 "cells": [
  {
   "cell_type": "markdown",
   "metadata": {},
   "source": [
    "# Hadoop Streaming assignment 2: Stop Words\n",
    "\n",
    "Improve the previous program to calculate how many stop words are in the input dataset. Stop words list is in *‘/datasets/stop_words_en.txt’* file. Use Hadoop counter to count the number of stop words and total words in the dataset. The result is the percentage of stop words in the entire dataset (without percent symbol)."
   ]
  },
  {
   "cell_type": "code",
   "execution_count": 1,
   "metadata": {},
   "outputs": [
    {
     "name": "stdout",
     "output_type": "stream",
     "text": [
      "Writing stop_words_mapper.py\n"
     ]
    }
   ],
   "source": [
    "%%writefile stop_words_mapper.py\n",
    "\n",
    "import sys\n",
    "import re\n",
    "\n",
    "reload(sys)\n",
    "sys.setdefaultencoding('utf-8')\n",
    "\n",
    "stop_words = list()\n",
    "words_count = 0\n",
    "stop_words_count = 0\n",
    "\n",
    "with open('stop_words_en.txt') as f1:\n",
    "    stop_words = set(f1.read().split())\n",
    "\n",
    "for line in sys.stdin:\n",
    "    try:\n",
    "        article_id, text = unicode(line.strip()).split('\\t', 1)\n",
    "    except ValueError as e:\n",
    "        continue\n",
    "    words = re.split(\"\\W*\\s+\\W*\", text, flags=re.UNICODE)\n",
    "    for word in words:\n",
    "        if word in stop_words:\n",
    "            stop_words_count += 1\n",
    "        words_count += 1\n",
    "        \n",
    "print \"%s\\t%d\" % (\"total_words\", words_count)\n",
    "print \"%s\\t%d\" % (\"stop_words\", stop_words_count)"
   ]
  },
  {
   "cell_type": "code",
   "execution_count": 2,
   "metadata": {},
   "outputs": [
    {
     "name": "stdout",
     "output_type": "stream",
     "text": [
      "Writing stop_words_reducer.py\n"
     ]
    }
   ],
   "source": [
    "%%writefile stop_words_reducer.py\n",
    "\n",
    "import sys\n",
    "\n",
    "current_key = None\n",
    "word_sum = 0\n",
    "\n",
    "for line in sys.stdin:\n",
    "    try:\n",
    "        key, count = line.strip().split('\\t', 1)\n",
    "        count = int(count)\n",
    "    except ValueError as e:\n",
    "        continue\n",
    "    if current_key != key:\n",
    "        if current_key:\n",
    "            print >> sys.stderr, \"reporter:counter:wiki,%s,%d\" % (current_key, word_sum)\n",
    "            print \"%s\\t%d\" % (current_key, word_sum)\n",
    "        word_sum = 0\n",
    "        current_key = key\n",
    "    word_sum += count\n",
    "\n",
    "if current_key:\n",
    "    print >> sys.stderr, \"reporter:counter:wiki,%s,%d\" % (current_key, word_sum)\n",
    "    print \"%s\\t%d\" % (current_key, word_sum)"
   ]
  },
  {
   "cell_type": "code",
   "execution_count": 3,
   "metadata": {},
   "outputs": [
    {
     "name": "stdout",
     "output_type": "stream",
     "text": [
      "Writing get_stopword_percentage.py\n"
     ]
    }
   ],
   "source": [
    "%%writefile get_stopword_percentage.py\n",
    "\n",
    "import sys\n",
    "import re\n",
    "\n",
    "total_count = 0.0\n",
    "stop_count = 0.0\n",
    "\n",
    "for line in sys.stdin:\n",
    "    try:\n",
    "        key, count = line.strip().split('=', 1)\n",
    "        count = int(count)\n",
    "    except ValueError as e:\n",
    "        continue\n",
    "    if key == 'stop_words':\n",
    "        stop_count += count\n",
    "    if key == 'total_words':\n",
    "        total_count += count\n",
    "\n",
    "result = stop_count / total_count * 100\n",
    "print \"%5.3f\" % result"
   ]
  },
  {
   "cell_type": "code",
   "execution_count": 5,
   "metadata": {},
   "outputs": [
    {
     "name": "stdout",
     "output_type": "stream",
     "text": [
      "38.440\n"
     ]
    },
    {
     "name": "stderr",
     "output_type": "stream",
     "text": [
      "rm: `stopwords_result_1533204505263416': No such file or directory\n",
      "18/08/02 10:08:28 INFO client.RMProxy: Connecting to ResourceManager at /0.0.0.0:8032\n",
      "18/08/02 10:08:28 INFO client.RMProxy: Connecting to ResourceManager at /0.0.0.0:8032\n",
      "18/08/02 10:08:29 INFO mapred.FileInputFormat: Total input files to process : 1\n",
      "18/08/02 10:08:29 INFO mapreduce.JobSubmitter: number of splits:2\n",
      "18/08/02 10:08:29 INFO mapreduce.JobSubmitter: Submitting tokens for job: job_1533143790063_0004\n",
      "18/08/02 10:08:29 INFO impl.YarnClientImpl: Submitted application application_1533143790063_0004\n",
      "18/08/02 10:08:29 INFO mapreduce.Job: The url to track the job: http://6b428e5a5e59:8088/proxy/application_1533143790063_0004/\n",
      "18/08/02 10:08:29 INFO mapreduce.Job: Running job: job_1533143790063_0004\n",
      "18/08/02 10:08:36 INFO mapreduce.Job: Job job_1533143790063_0004 running in uber mode : false\n",
      "18/08/02 10:08:36 INFO mapreduce.Job:  map 0% reduce 0%\n",
      "18/08/02 10:08:46 INFO mapreduce.Job:  map 100% reduce 0%\n",
      "18/08/02 10:08:50 INFO mapreduce.Job:  map 100% reduce 100%\n",
      "18/08/02 10:08:50 INFO mapreduce.Job: Job job_1533143790063_0004 completed successfully\n",
      "18/08/02 10:08:50 INFO mapreduce.Job: Counters: 52\n",
      "\tFile System Counters\n",
      "\t\tFILE: Number of bytes read=92\n",
      "\t\tFILE: Number of bytes written=420378\n",
      "\t\tFILE: Number of read operations=0\n",
      "\t\tFILE: Number of large read operations=0\n",
      "\t\tFILE: Number of write operations=0\n",
      "\t\tHDFS: Number of bytes read=76874501\n",
      "\t\tHDFS: Number of bytes written=40\n",
      "\t\tHDFS: Number of read operations=9\n",
      "\t\tHDFS: Number of large read operations=0\n",
      "\t\tHDFS: Number of write operations=2\n",
      "\tJob Counters \n",
      "\t\tKilled map tasks=1\n",
      "\t\tLaunched map tasks=2\n",
      "\t\tLaunched reduce tasks=1\n",
      "\t\tData-local map tasks=2\n",
      "\t\tTotal time spent by all maps in occupied slots (ms)=15156\n",
      "\t\tTotal time spent by all reduces in occupied slots (ms)=2235\n",
      "\t\tTotal time spent by all map tasks (ms)=15156\n",
      "\t\tTotal time spent by all reduce tasks (ms)=2235\n",
      "\t\tTotal vcore-milliseconds taken by all map tasks=15156\n",
      "\t\tTotal vcore-milliseconds taken by all reduce tasks=2235\n",
      "\t\tTotal megabyte-milliseconds taken by all map tasks=15519744\n",
      "\t\tTotal megabyte-milliseconds taken by all reduce tasks=2288640\n",
      "\tMap-Reduce Framework\n",
      "\t\tMap input records=4100\n",
      "\t\tMap output records=4\n",
      "\t\tMap output bytes=78\n",
      "\t\tMap output materialized bytes=98\n",
      "\t\tInput split bytes=228\n",
      "\t\tCombine input records=0\n",
      "\t\tCombine output records=0\n",
      "\t\tReduce input groups=2\n",
      "\t\tReduce shuffle bytes=98\n",
      "\t\tReduce input records=4\n",
      "\t\tReduce output records=2\n",
      "\t\tSpilled Records=8\n",
      "\t\tShuffled Maps =2\n",
      "\t\tFailed Shuffles=0\n",
      "\t\tMerged Map outputs=2\n",
      "\t\tGC time elapsed (ms)=269\n",
      "\t\tCPU time spent (ms)=2970\n",
      "\t\tPhysical memory (bytes) snapshot=751169536\n",
      "\t\tVirtual memory (bytes) snapshot=6034149376\n",
      "\t\tTotal committed heap usage (bytes)=546308096\n",
      "\tShuffle Errors\n",
      "\t\tBAD_ID=0\n",
      "\t\tCONNECTION=0\n",
      "\t\tIO_ERROR=0\n",
      "\t\tWRONG_LENGTH=0\n",
      "\t\tWRONG_MAP=0\n",
      "\t\tWRONG_REDUCE=0\n",
      "\tFile Input Format Counters \n",
      "\t\tBytes Read=76874273\n",
      "\tFile Output Format Counters \n",
      "\t\tBytes Written=40\n",
      "\twiki\n",
      "\t\tstop_words=4588771\n",
      "\t\ttotal_words=11937375\n",
      "18/08/02 10:08:50 INFO streaming.StreamJob: Output directory: stopwords_result_1533204505263416\n"
     ]
    }
   ],
   "source": [
    "%%bash\n",
    "\n",
    "OUT_DIR=\"stopwords_result_\"$(date +\"%s%6N\")\n",
    "NUM_REDUCERS=1\n",
    "LOGS=\"stderr_logs.txt\"\n",
    "\n",
    "hdfs dfs -rm -r -skipTrash ${OUT_DIR} > /dev/null\n",
    "\n",
    "yarn jar /opt/cloudera/parcels/CDH/lib/hadoop-mapreduce/hadoop-streaming.jar \\\n",
    "    -D mapred.jab.name=\"Streaming stopWords\" \\\n",
    "    -D mapreduce.job.reduces=${NUM_REDUCERS} \\\n",
    "    -files stop_words_mapper.py,stop_words_reducer.py,/datasets/stop_words_en.txt \\\n",
    "    -mapper \"python stop_words_mapper.py\" \\\n",
    "    -reducer \"python stop_words_reducer.py\" \\\n",
    "    -input /data/wiki/en_articles_part \\\n",
    "    -output ${OUT_DIR} > /dev/null 2> $LOGS\n",
    "    \n",
    "cat stderr_logs.txt | egrep \"*_words\" | python2 get_stopword_percentage.py\n",
    "cat stderr_logs.txt >&2"
   ]
  }
 ],
 "metadata": {
  "kernelspec": {
   "display_name": "Python 2",
   "language": "python",
   "name": "python2"
  },
  "language_info": {
   "codemirror_mode": {
    "name": "ipython",
    "version": 2
   },
   "file_extension": ".py",
   "mimetype": "text/x-python",
   "name": "python",
   "nbconvert_exporter": "python",
   "pygments_lexer": "ipython2",
   "version": "2.7.12"
  }
 },
 "nbformat": 4,
 "nbformat_minor": 2
}
